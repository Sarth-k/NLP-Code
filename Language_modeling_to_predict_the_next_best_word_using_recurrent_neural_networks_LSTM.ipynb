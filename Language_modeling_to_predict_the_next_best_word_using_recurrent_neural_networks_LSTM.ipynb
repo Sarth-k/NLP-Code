{
  "nbformat": 4,
  "nbformat_minor": 0,
  "metadata": {
    "colab": {
      "provenance": []
    },
    "kernelspec": {
      "name": "python3",
      "display_name": "Python 3"
    },
    "language_info": {
      "name": "python"
    }
  },
  "cells": [
    {
      "cell_type": "code",
      "execution_count": null,
      "metadata": {
        "id": "a5QXdEkeDnoh"
      },
      "outputs": [],
      "source": [
        "from __future__ import print_function"
      ]
    },
    {
      "cell_type": "code",
      "source": [
        "import os\n",
        "import nltk\n",
        "import string\n",
        "import pandas as pd\n",
        "import numpy as np\n",
        "from sklearn.model_selection import train_test_split\n"
      ],
      "metadata": {
        "id": "kgq0KVYxDx2M"
      },
      "execution_count": null,
      "outputs": []
    },
    {
      "cell_type": "code",
      "source": [
        "nltk.download('punkt')"
      ],
      "metadata": {
        "colab": {
          "base_uri": "https://localhost:8080/"
        },
        "id": "3NUGTnQRGgLO",
        "outputId": "ff15f8bc-8ab8-4aea-a017-28f4079221eb"
      },
      "execution_count": null,
      "outputs": [
        {
          "output_type": "stream",
          "name": "stderr",
          "text": [
            "[nltk_data] Downloading package punkt to /root/nltk_data...\n",
            "[nltk_data]   Unzipping tokenizers/punkt.zip.\n"
          ]
        },
        {
          "output_type": "execute_result",
          "data": {
            "text/plain": [
              "True"
            ]
          },
          "metadata": {},
          "execution_count": 16
        }
      ]
    },
    {
      "cell_type": "code",
      "source": [
        "with open('alice_in_wonderland.txt', 'r') as content_file: content = content_file.read()"
      ],
      "metadata": {
        "id": "xjcCR0DVERfM"
      },
      "execution_count": null,
      "outputs": []
    },
    {
      "cell_type": "code",
      "source": [
        "content2 = \" \".join(\"\".join([\" \" if ch in string.punctuation else ch for ch in content]).split())\n",
        "tokens = nltk.word_tokenize(content2)\n",
        "tokens = [word.lower() for word in tokens if len(word)>=2]"
      ],
      "metadata": {
        "id": "vogleiG6ERoQ"
      },
      "execution_count": null,
      "outputs": []
    },
    {
      "cell_type": "code",
      "source": [
        "N = 3\n",
        "quads = list(nltk.ngrams(tokens,N))\n",
        "newl_app = []\n",
        "for ln in quads:\n",
        "  newl = \" \".join(ln)\n",
        "  newl_app.append(newl)"
      ],
      "metadata": {
        "id": "TOKDul8ZERp5"
      },
      "execution_count": null,
      "outputs": []
    },
    {
      "cell_type": "code",
      "source": [
        "# Vectorizing the words\n",
        "from sklearn.feature_extraction.text import CountVectorizer\n",
        "vectorizer = CountVectorizer()\n",
        "x_trigm = []\n",
        "y_trigm = []\n",
        "for l in newl_app:\n",
        "  x_str = \" \".join(l.split()[0:N-1])\n",
        "  y_str = l.split()[N-1]\n",
        "  x_trigm.append(x_str)\n",
        "  y_trigm.append(y_str)\n",
        "x_trigm_check = vectorizer.fit_transform(x_trigm).todense()\n",
        "y_trigm_check = vectorizer.fit_transform(y_trigm).todense()"
      ],
      "metadata": {
        "id": "M5m3HeBVERtU"
      },
      "execution_count": null,
      "outputs": []
    },
    {
      "cell_type": "code",
      "source": [
        "# Dictionaries from word to integer and integer to word\n",
        "dictnry = vectorizer.vocabulary_\n",
        "rev_dictnry = {v:k for k,v in dictnry.items()}\n",
        "X = np.array(x_trigm_check)\n",
        "Y = np.array(y_trigm_check)\n",
        "Xtrain, Xtest, Ytrain, Ytest,xtrain_tg,xtest_tg = train_test_split(X,Y,x_trigm, test_size=0.3,random_state=42)\n",
        "print(\"X Train shape\",Xtrain.shape, \"Y Train shape\" , Ytrain.shape)\n",
        "print(\"X Test shape\",Xtest.shape, \"Y Test shape\" , Ytest.shape)"
      ],
      "metadata": {
        "colab": {
          "base_uri": "https://localhost:8080/"
        },
        "id": "b_KkX5beERzX",
        "outputId": "9c297d9f-c1d3-465d-eef1-58d5c34158ac"
      },
      "execution_count": null,
      "outputs": [
        {
          "output_type": "stream",
          "name": "stdout",
          "text": [
            "X Train shape (17944, 2562) Y Train shape (17944, 2562)\n",
            "X Test shape (7691, 2562) Y Test shape (7691, 2562)\n"
          ]
        }
      ]
    },
    {
      "cell_type": "code",
      "source": [
        "# Model Building\n",
        "from keras.layers import Input,Dense,Dropout\n",
        "from keras.models import Model\n",
        "np.random.seed(42)\n",
        "BATCH_SIZE = 128\n",
        "NUM_EPOCHS = 100\n",
        "input_layer = Input(shape = (Xtrain.shape[1],),name=\"input\")\n",
        "first_layer = Dense(1000,activation='relu',name = \"first\")(input_layer)\n",
        "first_dropout = Dropout(0.5,name=\"firstdout\")(first_layer)\n",
        "second_layer = Dense(800,activation='relu',name=\"second\")(first_dropout)\n",
        "third_layer = Dense(1000,activation='relu',name=\"third\") (second_layer)\n",
        "third_dropout = Dropout(0.5,name=\"thirdout\")(third_layer)\n",
        "fourth_layer = Dense(Ytrain.shape[1],activation='softmax',name =\"fourth\")(third_dropout)\n",
        "history = Model(input_layer,fourth_layer)\n",
        "history.compile(optimizer = \"adam\",loss=\"categorical_crossentropy\",metrics=[\"accuracy\"])\n",
        "print (history.summary())"
      ],
      "metadata": {
        "colab": {
          "base_uri": "https://localhost:8080/"
        },
        "id": "NX1hFYFjERwA",
        "outputId": "1a3a3a1c-5433-4569-9f1c-029e5fd3a3e4"
      },
      "execution_count": null,
      "outputs": [
        {
          "output_type": "stream",
          "name": "stdout",
          "text": [
            "Model: \"model\"\n",
            "_________________________________________________________________\n",
            " Layer (type)                Output Shape              Param #   \n",
            "=================================================================\n",
            " input (InputLayer)          [(None, 2562)]            0         \n",
            "                                                                 \n",
            " first (Dense)               (None, 1000)              2563000   \n",
            "                                                                 \n",
            " firstdout (Dropout)         (None, 1000)              0         \n",
            "                                                                 \n",
            " second (Dense)              (None, 800)               800800    \n",
            "                                                                 \n",
            " third (Dense)               (None, 1000)              801000    \n",
            "                                                                 \n",
            " thirdout (Dropout)          (None, 1000)              0         \n",
            "                                                                 \n",
            " fourth (Dense)              (None, 2562)              2564562   \n",
            "                                                                 \n",
            "=================================================================\n",
            "Total params: 6729362 (25.67 MB)\n",
            "Trainable params: 6729362 (25.67 MB)\n",
            "Non-trainable params: 0 (0.00 Byte)\n",
            "_________________________________________________________________\n",
            "None\n"
          ]
        }
      ]
    },
    {
      "cell_type": "code",
      "source": [
        "# Model Training\n",
        "history.fit(Xtrain, Ytrain, batch_size=BATCH_SIZE,epochs=NUM_EPOCHS,verbose=1,validation_split = 0.2)\n"
      ],
      "metadata": {
        "colab": {
          "base_uri": "https://localhost:8080/"
        },
        "id": "1KTJikmxEW84",
        "outputId": "0103026e-6a16-4410-c7fd-153cd995bd25"
      },
      "execution_count": null,
      "outputs": [
        {
          "output_type": "stream",
          "name": "stdout",
          "text": [
            "Epoch 1/100\n",
            "113/113 [==============================] - 29s 244ms/step - loss: 6.3311 - accuracy: 0.0586 - val_loss: 6.0909 - val_accuracy: 0.0607\n",
            "Epoch 2/100\n",
            "113/113 [==============================] - 29s 253ms/step - loss: 5.9139 - accuracy: 0.0687 - val_loss: 6.0233 - val_accuracy: 0.0671\n",
            "Epoch 3/100\n",
            "113/113 [==============================] - 19s 169ms/step - loss: 5.6961 - accuracy: 0.0843 - val_loss: 6.0166 - val_accuracy: 0.0738\n",
            "Epoch 4/100\n",
            "113/113 [==============================] - 19s 169ms/step - loss: 5.4490 - accuracy: 0.1048 - val_loss: 5.9688 - val_accuracy: 0.0869\n",
            "Epoch 5/100\n",
            "113/113 [==============================] - 20s 175ms/step - loss: 5.1947 - accuracy: 0.1316 - val_loss: 5.9860 - val_accuracy: 0.1048\n",
            "Epoch 6/100\n",
            "113/113 [==============================] - 21s 185ms/step - loss: 4.9398 - accuracy: 0.1552 - val_loss: 6.0226 - val_accuracy: 0.1076\n",
            "Epoch 7/100\n",
            "113/113 [==============================] - 19s 170ms/step - loss: 4.7231 - accuracy: 0.1763 - val_loss: 6.0887 - val_accuracy: 0.1126\n",
            "Epoch 8/100\n",
            "113/113 [==============================] - 20s 177ms/step - loss: 4.4911 - accuracy: 0.1967 - val_loss: 6.3026 - val_accuracy: 0.1123\n",
            "Epoch 9/100\n",
            "113/113 [==============================] - 19s 169ms/step - loss: 4.2869 - accuracy: 0.2178 - val_loss: 6.3713 - val_accuracy: 0.1109\n",
            "Epoch 10/100\n",
            "113/113 [==============================] - 20s 178ms/step - loss: 4.1027 - accuracy: 0.2386 - val_loss: 6.5126 - val_accuracy: 0.1123\n",
            "Epoch 11/100\n",
            "113/113 [==============================] - 20s 174ms/step - loss: 3.9036 - accuracy: 0.2612 - val_loss: 6.5839 - val_accuracy: 0.1078\n",
            "Epoch 12/100\n",
            "113/113 [==============================] - 20s 172ms/step - loss: 3.7399 - accuracy: 0.2869 - val_loss: 6.7145 - val_accuracy: 0.1084\n",
            "Epoch 13/100\n",
            "113/113 [==============================] - 20s 177ms/step - loss: 3.5764 - accuracy: 0.3004 - val_loss: 7.0621 - val_accuracy: 0.1089\n",
            "Epoch 14/100\n",
            "113/113 [==============================] - 18s 164ms/step - loss: 3.4203 - accuracy: 0.3200 - val_loss: 7.2094 - val_accuracy: 0.1115\n",
            "Epoch 15/100\n",
            "113/113 [==============================] - 20s 180ms/step - loss: 3.2682 - accuracy: 0.3375 - val_loss: 7.2486 - val_accuracy: 0.1117\n",
            "Epoch 16/100\n",
            "113/113 [==============================] - 19s 165ms/step - loss: 3.1236 - accuracy: 0.3579 - val_loss: 7.5834 - val_accuracy: 0.1123\n",
            "Epoch 17/100\n",
            "113/113 [==============================] - 20s 173ms/step - loss: 2.9883 - accuracy: 0.3672 - val_loss: 7.5587 - val_accuracy: 0.1140\n",
            "Epoch 18/100\n",
            "113/113 [==============================] - 19s 167ms/step - loss: 2.8631 - accuracy: 0.3825 - val_loss: 7.9158 - val_accuracy: 0.1106\n",
            "Epoch 19/100\n",
            "113/113 [==============================] - 19s 172ms/step - loss: 2.7451 - accuracy: 0.3994 - val_loss: 7.8454 - val_accuracy: 0.1087\n",
            "Epoch 20/100\n",
            "113/113 [==============================] - 18s 163ms/step - loss: 2.6397 - accuracy: 0.4100 - val_loss: 8.1508 - val_accuracy: 0.1109\n",
            "Epoch 21/100\n",
            "113/113 [==============================] - 20s 175ms/step - loss: 2.5414 - accuracy: 0.4254 - val_loss: 8.2621 - val_accuracy: 0.1134\n",
            "Epoch 22/100\n",
            "113/113 [==============================] - 19s 165ms/step - loss: 2.4299 - accuracy: 0.4399 - val_loss: 8.2010 - val_accuracy: 0.1126\n",
            "Epoch 23/100\n",
            "113/113 [==============================] - 20s 173ms/step - loss: 2.3335 - accuracy: 0.4580 - val_loss: 8.4576 - val_accuracy: 0.1117\n",
            "Epoch 24/100\n",
            "113/113 [==============================] - 20s 173ms/step - loss: 2.2442 - accuracy: 0.4676 - val_loss: 8.5972 - val_accuracy: 0.1117\n",
            "Epoch 25/100\n",
            "113/113 [==============================] - 19s 172ms/step - loss: 2.1854 - accuracy: 0.4787 - val_loss: 8.6769 - val_accuracy: 0.1117\n",
            "Epoch 26/100\n",
            "113/113 [==============================] - 19s 168ms/step - loss: 2.1010 - accuracy: 0.4902 - val_loss: 8.8115 - val_accuracy: 0.1115\n",
            "Epoch 27/100\n",
            "113/113 [==============================] - 20s 176ms/step - loss: 2.0471 - accuracy: 0.4965 - val_loss: 8.9871 - val_accuracy: 0.1103\n",
            "Epoch 28/100\n",
            "113/113 [==============================] - 19s 168ms/step - loss: 1.9885 - accuracy: 0.5099 - val_loss: 8.9571 - val_accuracy: 0.1098\n",
            "Epoch 29/100\n",
            "113/113 [==============================] - 31s 275ms/step - loss: 1.9078 - accuracy: 0.5172 - val_loss: 9.2139 - val_accuracy: 0.1137\n",
            "Epoch 30/100\n",
            "113/113 [==============================] - 29s 254ms/step - loss: 1.8935 - accuracy: 0.5230 - val_loss: 9.0978 - val_accuracy: 0.1037\n",
            "Epoch 31/100\n",
            "113/113 [==============================] - 19s 167ms/step - loss: 1.8288 - accuracy: 0.5385 - val_loss: 9.1793 - val_accuracy: 0.1081\n",
            "Epoch 32/100\n",
            "113/113 [==============================] - 20s 176ms/step - loss: 1.7907 - accuracy: 0.5423 - val_loss: 9.3620 - val_accuracy: 0.1112\n",
            "Epoch 33/100\n",
            "113/113 [==============================] - 19s 166ms/step - loss: 1.7604 - accuracy: 0.5455 - val_loss: 9.5680 - val_accuracy: 0.1154\n",
            "Epoch 34/100\n",
            "113/113 [==============================] - 20s 176ms/step - loss: 1.7184 - accuracy: 0.5555 - val_loss: 9.5729 - val_accuracy: 0.1176\n",
            "Epoch 35/100\n",
            "113/113 [==============================] - 21s 187ms/step - loss: 1.6880 - accuracy: 0.5620 - val_loss: 9.7313 - val_accuracy: 0.1095\n",
            "Epoch 36/100\n",
            "113/113 [==============================] - 19s 165ms/step - loss: 1.6442 - accuracy: 0.5667 - val_loss: 9.8484 - val_accuracy: 0.1165\n",
            "Epoch 37/100\n",
            "113/113 [==============================] - 20s 177ms/step - loss: 1.6277 - accuracy: 0.5696 - val_loss: 9.7801 - val_accuracy: 0.1137\n",
            "Epoch 38/100\n",
            "113/113 [==============================] - 19s 167ms/step - loss: 1.5949 - accuracy: 0.5726 - val_loss: 9.7313 - val_accuracy: 0.1165\n",
            "Epoch 39/100\n",
            "113/113 [==============================] - 20s 174ms/step - loss: 1.5822 - accuracy: 0.5772 - val_loss: 9.9528 - val_accuracy: 0.1123\n",
            "Epoch 40/100\n",
            "113/113 [==============================] - 18s 161ms/step - loss: 1.5486 - accuracy: 0.5823 - val_loss: 9.8783 - val_accuracy: 0.1134\n",
            "Epoch 41/100\n",
            "113/113 [==============================] - 20s 177ms/step - loss: 1.5342 - accuracy: 0.5857 - val_loss: 10.0867 - val_accuracy: 0.1109\n",
            "Epoch 42/100\n",
            "113/113 [==============================] - 19s 166ms/step - loss: 1.5019 - accuracy: 0.5909 - val_loss: 10.0627 - val_accuracy: 0.1134\n",
            "Epoch 43/100\n",
            "113/113 [==============================] - 21s 182ms/step - loss: 1.4839 - accuracy: 0.5898 - val_loss: 10.0659 - val_accuracy: 0.1106\n",
            "Epoch 44/100\n",
            "113/113 [==============================] - 19s 168ms/step - loss: 1.4873 - accuracy: 0.5909 - val_loss: 10.1548 - val_accuracy: 0.1123\n",
            "Epoch 45/100\n",
            "113/113 [==============================] - 20s 175ms/step - loss: 1.4475 - accuracy: 0.5949 - val_loss: 10.0985 - val_accuracy: 0.1123\n",
            "Epoch 46/100\n",
            "113/113 [==============================] - 19s 167ms/step - loss: 1.4507 - accuracy: 0.5978 - val_loss: 10.1280 - val_accuracy: 0.1131\n",
            "Epoch 47/100\n",
            "113/113 [==============================] - 20s 178ms/step - loss: 1.4364 - accuracy: 0.6017 - val_loss: 10.2707 - val_accuracy: 0.1064\n",
            "Epoch 48/100\n",
            "113/113 [==============================] - 21s 185ms/step - loss: 1.4120 - accuracy: 0.6069 - val_loss: 10.4551 - val_accuracy: 0.1145\n",
            "Epoch 49/100\n",
            "113/113 [==============================] - 19s 166ms/step - loss: 1.3979 - accuracy: 0.6043 - val_loss: 10.2134 - val_accuracy: 0.1140\n",
            "Epoch 50/100\n",
            "113/113 [==============================] - 20s 178ms/step - loss: 1.4013 - accuracy: 0.6018 - val_loss: 10.3353 - val_accuracy: 0.1134\n",
            "Epoch 51/100\n",
            "113/113 [==============================] - 19s 167ms/step - loss: 1.3752 - accuracy: 0.6045 - val_loss: 10.4068 - val_accuracy: 0.1112\n",
            "Epoch 52/100\n",
            "113/113 [==============================] - 19s 168ms/step - loss: 1.3600 - accuracy: 0.6121 - val_loss: 10.6521 - val_accuracy: 0.1089\n",
            "Epoch 53/100\n",
            "113/113 [==============================] - 19s 168ms/step - loss: 1.3528 - accuracy: 0.6132 - val_loss: 10.5321 - val_accuracy: 0.1056\n",
            "Epoch 54/100\n",
            "113/113 [==============================] - 19s 170ms/step - loss: 1.3434 - accuracy: 0.6093 - val_loss: 10.7699 - val_accuracy: 0.1134\n",
            "Epoch 55/100\n",
            "113/113 [==============================] - 19s 168ms/step - loss: 1.3359 - accuracy: 0.6122 - val_loss: 10.6713 - val_accuracy: 0.1095\n",
            "Epoch 56/100\n",
            "113/113 [==============================] - 19s 171ms/step - loss: 1.3177 - accuracy: 0.6130 - val_loss: 10.7270 - val_accuracy: 0.1076\n",
            "Epoch 57/100\n",
            "113/113 [==============================] - 19s 169ms/step - loss: 1.3148 - accuracy: 0.6125 - val_loss: 10.7569 - val_accuracy: 0.1120\n",
            "Epoch 58/100\n",
            "113/113 [==============================] - 20s 175ms/step - loss: 1.3096 - accuracy: 0.6157 - val_loss: 10.6858 - val_accuracy: 0.1109\n",
            "Epoch 59/100\n",
            "113/113 [==============================] - 25s 224ms/step - loss: 1.3048 - accuracy: 0.6187 - val_loss: 10.8111 - val_accuracy: 0.1120\n",
            "Epoch 60/100\n",
            "113/113 [==============================] - 19s 173ms/step - loss: 1.2952 - accuracy: 0.6154 - val_loss: 10.7601 - val_accuracy: 0.1126\n",
            "Epoch 61/100\n",
            "113/113 [==============================] - 20s 179ms/step - loss: 1.2851 - accuracy: 0.6169 - val_loss: 10.7852 - val_accuracy: 0.1120\n",
            "Epoch 62/100\n",
            "113/113 [==============================] - 19s 168ms/step - loss: 1.2794 - accuracy: 0.6202 - val_loss: 10.9974 - val_accuracy: 0.1120\n",
            "Epoch 63/100\n",
            "113/113 [==============================] - 20s 177ms/step - loss: 1.2639 - accuracy: 0.6218 - val_loss: 10.9953 - val_accuracy: 0.1120\n",
            "Epoch 64/100\n",
            "113/113 [==============================] - 21s 188ms/step - loss: 1.2685 - accuracy: 0.6228 - val_loss: 10.9872 - val_accuracy: 0.1142\n",
            "Epoch 65/100\n",
            "113/113 [==============================] - 19s 171ms/step - loss: 1.2527 - accuracy: 0.6239 - val_loss: 10.8956 - val_accuracy: 0.1101\n",
            "Epoch 66/100\n",
            "113/113 [==============================] - 20s 180ms/step - loss: 1.2449 - accuracy: 0.6254 - val_loss: 11.0579 - val_accuracy: 0.1126\n",
            "Epoch 67/100\n",
            "113/113 [==============================] - 20s 181ms/step - loss: 1.2419 - accuracy: 0.6233 - val_loss: 11.0518 - val_accuracy: 0.1112\n",
            "Epoch 68/100\n",
            "113/113 [==============================] - 20s 180ms/step - loss: 1.2450 - accuracy: 0.6215 - val_loss: 11.1451 - val_accuracy: 0.1162\n",
            "Epoch 69/100\n",
            "113/113 [==============================] - 21s 182ms/step - loss: 1.2390 - accuracy: 0.6276 - val_loss: 10.9721 - val_accuracy: 0.1151\n",
            "Epoch 70/100\n",
            "113/113 [==============================] - 19s 168ms/step - loss: 1.2306 - accuracy: 0.6277 - val_loss: 11.2548 - val_accuracy: 0.1162\n",
            "Epoch 71/100\n",
            "113/113 [==============================] - 20s 178ms/step - loss: 1.2261 - accuracy: 0.6211 - val_loss: 11.2055 - val_accuracy: 0.1126\n",
            "Epoch 72/100\n",
            "113/113 [==============================] - 19s 166ms/step - loss: 1.2106 - accuracy: 0.6264 - val_loss: 11.1590 - val_accuracy: 0.1131\n",
            "Epoch 73/100\n",
            "113/113 [==============================] - 21s 188ms/step - loss: 1.2155 - accuracy: 0.6304 - val_loss: 11.2223 - val_accuracy: 0.1120\n",
            "Epoch 74/100\n",
            "113/113 [==============================] - 19s 170ms/step - loss: 1.2102 - accuracy: 0.6247 - val_loss: 11.2704 - val_accuracy: 0.1176\n",
            "Epoch 75/100\n",
            "113/113 [==============================] - 20s 179ms/step - loss: 1.1959 - accuracy: 0.6281 - val_loss: 11.3664 - val_accuracy: 0.1134\n",
            "Epoch 76/100\n",
            "113/113 [==============================] - 19s 170ms/step - loss: 1.1934 - accuracy: 0.6299 - val_loss: 11.2809 - val_accuracy: 0.1151\n",
            "Epoch 77/100\n",
            "113/113 [==============================] - 19s 168ms/step - loss: 1.1896 - accuracy: 0.6290 - val_loss: 11.3265 - val_accuracy: 0.1123\n",
            "Epoch 78/100\n",
            "113/113 [==============================] - 20s 174ms/step - loss: 1.1870 - accuracy: 0.6274 - val_loss: 11.5716 - val_accuracy: 0.1156\n",
            "Epoch 79/100\n",
            "113/113 [==============================] - 19s 166ms/step - loss: 1.1803 - accuracy: 0.6320 - val_loss: 11.7818 - val_accuracy: 0.1156\n",
            "Epoch 80/100\n",
            "113/113 [==============================] - 20s 181ms/step - loss: 1.1791 - accuracy: 0.6318 - val_loss: 11.4421 - val_accuracy: 0.1137\n",
            "Epoch 81/100\n",
            "113/113 [==============================] - 18s 162ms/step - loss: 1.1746 - accuracy: 0.6310 - val_loss: 11.4731 - val_accuracy: 0.1115\n",
            "Epoch 82/100\n",
            "113/113 [==============================] - 19s 170ms/step - loss: 1.1707 - accuracy: 0.6309 - val_loss: 11.7036 - val_accuracy: 0.1145\n",
            "Epoch 83/100\n",
            "113/113 [==============================] - 19s 165ms/step - loss: 1.1599 - accuracy: 0.6340 - val_loss: 11.6545 - val_accuracy: 0.1098\n",
            "Epoch 84/100\n",
            "113/113 [==============================] - 19s 170ms/step - loss: 1.1616 - accuracy: 0.6319 - val_loss: 11.4208 - val_accuracy: 0.1117\n",
            "Epoch 85/100\n",
            "113/113 [==============================] - 19s 166ms/step - loss: 1.1529 - accuracy: 0.6371 - val_loss: 11.6860 - val_accuracy: 0.1151\n",
            "Epoch 86/100\n",
            "113/113 [==============================] - 21s 183ms/step - loss: 1.1450 - accuracy: 0.6346 - val_loss: 11.6346 - val_accuracy: 0.1140\n",
            "Epoch 87/100\n",
            "113/113 [==============================] - 18s 163ms/step - loss: 1.1448 - accuracy: 0.6362 - val_loss: 11.7694 - val_accuracy: 0.1098\n",
            "Epoch 88/100\n",
            "113/113 [==============================] - 20s 173ms/step - loss: 1.1448 - accuracy: 0.6309 - val_loss: 11.8429 - val_accuracy: 0.1151\n",
            "Epoch 89/100\n",
            "113/113 [==============================] - 19s 165ms/step - loss: 1.1404 - accuracy: 0.6364 - val_loss: 11.7861 - val_accuracy: 0.1142\n",
            "Epoch 90/100\n",
            "113/113 [==============================] - 20s 175ms/step - loss: 1.1250 - accuracy: 0.6345 - val_loss: 12.0275 - val_accuracy: 0.1078\n",
            "Epoch 91/100\n",
            "113/113 [==============================] - 18s 162ms/step - loss: 1.1364 - accuracy: 0.6352 - val_loss: 12.1182 - val_accuracy: 0.1145\n",
            "Epoch 92/100\n",
            "113/113 [==============================] - 20s 175ms/step - loss: 1.1242 - accuracy: 0.6403 - val_loss: 11.8851 - val_accuracy: 0.1140\n",
            "Epoch 93/100\n",
            "113/113 [==============================] - 19s 167ms/step - loss: 1.1300 - accuracy: 0.6378 - val_loss: 11.9190 - val_accuracy: 0.1123\n",
            "Epoch 94/100\n",
            "113/113 [==============================] - 20s 177ms/step - loss: 1.1230 - accuracy: 0.6371 - val_loss: 12.0772 - val_accuracy: 0.1112\n",
            "Epoch 95/100\n",
            "113/113 [==============================] - 19s 167ms/step - loss: 1.1161 - accuracy: 0.6375 - val_loss: 12.0470 - val_accuracy: 0.1134\n",
            "Epoch 96/100\n",
            "113/113 [==============================] - 20s 177ms/step - loss: 1.1150 - accuracy: 0.6369 - val_loss: 12.1198 - val_accuracy: 0.1120\n",
            "Epoch 97/100\n",
            "113/113 [==============================] - 19s 172ms/step - loss: 1.1167 - accuracy: 0.6384 - val_loss: 12.0095 - val_accuracy: 0.1142\n",
            "Epoch 98/100\n",
            "113/113 [==============================] - 21s 182ms/step - loss: 1.1131 - accuracy: 0.6375 - val_loss: 12.1414 - val_accuracy: 0.1120\n",
            "Epoch 99/100\n",
            "113/113 [==============================] - 20s 176ms/step - loss: 1.1040 - accuracy: 0.6375 - val_loss: 12.2717 - val_accuracy: 0.1145\n",
            "Epoch 100/100\n",
            "113/113 [==============================] - 19s 167ms/step - loss: 1.1024 - accuracy: 0.6419 - val_loss: 12.0884 - val_accuracy: 0.1131\n"
          ]
        },
        {
          "output_type": "execute_result",
          "data": {
            "text/plain": [
              "<keras.src.callbacks.History at 0x79a6124e8b20>"
            ]
          },
          "metadata": {},
          "execution_count": 23
        }
      ]
    },
    {
      "cell_type": "code",
      "source": [
        "# Model Prediction\n",
        "Y_pred = history.predict(Xtest)\n",
        "# Sample check on Test data\n",
        "print (\"Prior bigram words\", \"|Actual\", \"|Predicted\",\"\\n\")\n",
        "for i in range(10):\n",
        "  print (i,xtest_tg[i],\"|\",rev_dictnry[np.argmax(Ytest[i])],\"|\",rev_dictnry[np.argmax(Y_pred[i])])"
      ],
      "metadata": {
        "colab": {
          "base_uri": "https://localhost:8080/"
        },
        "id": "6QB4IN0WEW-2",
        "outputId": "496908cc-0b29-44d9-b22d-a8e8677fee67"
      },
      "execution_count": null,
      "outputs": [
        {
          "output_type": "stream",
          "name": "stdout",
          "text": [
            "241/241 [==============================] - 5s 20ms/step\n",
            "Prior bigram words |Actual |Predicted \n",
            "\n",
            "0 and they | re | walked\n",
            "1 never learnt | it | for\n",
            "2 matters it | how | good\n",
            "3 as she | could | could\n",
            "4 the duchess | what | and\n",
            "5 pair of | boots | white\n",
            "6 cattle in | the | the\n",
            "7 it was | looking | the\n",
            "8 what else | have | you\n",
            "9 voice of | the | the\n"
          ]
        }
      ]
    },
    {
      "cell_type": "code",
      "source": [],
      "metadata": {
        "id": "nvfq7yt7K6-w"
      },
      "execution_count": null,
      "outputs": []
    }
  ]
}